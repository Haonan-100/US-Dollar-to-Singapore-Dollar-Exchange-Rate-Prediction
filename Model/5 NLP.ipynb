{
 "cells": [
  {
   "cell_type": "code",
   "execution_count": null,
   "id": "initial_id",
   "metadata": {
    "collapsed": true
   },
   "outputs": [],
   "source": [
    "import pandas as pd\n",
    "from nltk.sentiment.vader import SentimentIntensityAnalyzer\n",
    "import matplotlib.pyplot as plt\n",
    "import seaborn as sns"
   ]
  },
  {
   "metadata": {},
   "cell_type": "code",
   "outputs": [],
   "execution_count": null,
   "source": [
    "data_path = 'selected_data.parquet'\n",
    "data = pd.read_parquet(data_path)"
   ],
   "id": "59b88a1345c6996e"
  },
  {
   "metadata": {},
   "cell_type": "code",
   "outputs": [],
   "execution_count": null,
   "source": [
    "keywords_context = {\n",
    "    'USD': {\n",
    "        'keywords': [\n",
    "            'Federal Reserve', 'interest rate hike', 'US inflation data', 'US GDP growth',\n",
    "            'US unemployment rate', 'US trade balance', 'Federal budget deficit', 'US monetary policy'\n",
    "        ],\n",
    "        'positive': [\n",
    "            'hike', 'strong', 'growth', 'surplus', 'tighten', 'rally'\n",
    "        ],\n",
    "        'negative': [\n",
    "            'cut', 'weak', 'decline', 'deficit', 'loosen', 'slump'\n",
    "        ]\n",
    "    },\n",
    "    'SGD': {\n",
    "        'keywords': [\n",
    "            'Monetary Authority of Singapore', 'SGD interest rates', 'Singapore GDP growth',\n",
    "            'Singapore inflation rate', 'Singapore trade data', 'Singapore government budget'\n",
    "        ],\n",
    "        'positive': [\n",
    "            'raise', 'strong', 'growth', 'surplus', 'tighten', 'advance'\n",
    "        ],\n",
    "        'negative': [\n",
    "            'cut', 'weak', 'decline', 'deficit', 'loosen', 'retract'\n",
    "        ]\n",
    "    }\n",
    "}"
   ],
   "id": "6772ac877edcbab2"
  },
  {
   "metadata": {},
   "cell_type": "code",
   "outputs": [],
   "execution_count": null,
   "source": [
    "def contains_keywords(text, keywords, positive, negative):\n",
    "    text_lower = text.lower()\n",
    "    keyword_hits = any(word in text_lower for word in keywords)\n",
    "    if not keyword_hits:\n",
    "        return 0  # No keywords found, skip processing\n",
    "    pos_count = sum(text_lower.count(pos) for pos in positive)\n",
    "    neg_count = sum(text_lower.count(neg) for neg in negative)\n",
    "    return pos_count - neg_count"
   ],
   "id": "ff5c86368db1be22"
  },
  {
   "metadata": {},
   "cell_type": "code",
   "outputs": [],
   "execution_count": null,
   "source": [
    "for key, context in keywords_context.items():\n",
    "    data[f'{key}_context'] = data['text'].apply(\n",
    "        lambda x: contains_keywords(x, context['keywords'], context['positive'], context['negative'])\n",
    "    )\n",
    "\n",
    "\n",
    "for key, context in keywords_context.items():\n",
    "    data[f'{key}_context'] = data['text'].apply(lambda x: contains_keywords(x, context['keywords'], context['positive'], context['negative']))\n",
    "\n",
    "analyzer = SentimentIntensityAnalyzer()\n",
    "data['sentiment'] = data['short_description'].apply(lambda x: analyzer.polarity_scores(x)['compound'])\n",
    "\n",
    "data['impact_currency'] = 'Neutral'\n",
    "data['impact_score'] ="
   ],
   "id": "9d8119d266a84fd9"
  },
  {
   "metadata": {},
   "cell_type": "code",
   "outputs": [],
   "execution_count": null,
   "source": [
    "ef sentiment_impact(row):\n",
    "    for currency in ['USD', 'SGD']:\n",
    "        context_score = row[f'{currency}_context']\n",
    "        if context_score != 0:\n",
    "            adjusted_score = row['sentiment'] * context_score\n",
    "            if currency == 'SGD':\n",
    "                adjusted_score *= -1\n",
    "            if abs(adjusted_score) > abs(row['impact_score']):  # Only update if the new score is more significant\n",
    "                row['impact_currency'] = currency\n",
    "                row['impact_score'] = min(1, max(-1, adjusted_score))\n",
    "    return row"
   ],
   "id": "e2a9792f5304fb48"
  },
  {
   "metadata": {},
   "cell_type": "code",
   "outputs": [],
   "execution_count": null,
   "source": [
    "data = data.apply(sentiment_impact, axis=1)\n",
    "\n",
    "average_sentiment = data.groupby('impact_currency')['impact_score'].mean()\n",
    "print(average_sentiment)\n",
    "\n",
    "print(data.head())\n",
    "\n",
    "impact_score_1 = data[data['impact_score'] <= 1].head(5)\n",
    "impact_score_minus_1 = data[data['impact_score'] >= -1].head(5)\n",
    "\n",
    "print(\"Examples with impact_score = 1:\")\n",
    "print(impact_score_1[['short_description', 'impact_currency', 'impact_score']])\n",
    "\n",
    "print(\"\\nExamples with impact_score = -1:\")\n",
    "print(impact_score_minus_1[['short_description', 'impact_currency', 'impact_score']])"
   ],
   "id": "bc7b2df49f3643b5"
  },
  {
   "metadata": {},
   "cell_type": "code",
   "outputs": [],
   "execution_count": null,
   "source": [
    "non_zero_impact_scores = data[data['sentiment'] != 0].head(1000)\n",
    "csv_output_path = 'non_zero_impact_score_examples.csv'\n",
    "non_zero_impact_scores.to_csv(csv_output_path, index=False)"
   ],
   "id": "3f7e02a334495a25"
  }
 ],
 "metadata": {
  "kernelspec": {
   "display_name": "Python 3",
   "language": "python",
   "name": "python3"
  },
  "language_info": {
   "codemirror_mode": {
    "name": "ipython",
    "version": 2
   },
   "file_extension": ".py",
   "mimetype": "text/x-python",
   "name": "python",
   "nbconvert_exporter": "python",
   "pygments_lexer": "ipython2",
   "version": "2.7.6"
  }
 },
 "nbformat": 4,
 "nbformat_minor": 5
}
