{
 "cells": [
  {
   "cell_type": "code",
   "execution_count": null,
   "id": "initial_id",
   "metadata": {
    "collapsed": true
   },
   "outputs": [],
   "source": [
    "import numpy as np\n",
    "import pandas as pd\n",
    "import matplotlib.pyplot as plt\n",
    "import seaborn as sns"
   ]
  },
  {
   "metadata": {},
   "cell_type": "code",
   "outputs": [],
   "execution_count": null,
   "source": [
    "pd.set_option('display.max_columns', None)\n",
    "pd.set_option('display.max_rows', None)\n",
    "pd.set_option('display.width', 1000)\n",
    "pd.set_option('display.float_format', '{:.4f}'.format)\n",
    "\n",
    "path_processed = r'Database2.csv'\n",
    "data = pd.read_csv(path_processed, parse_dates=['Date'])\n",
    "data.dropna(inplace=True)\n",
    "\n",
    "data.reset_index(drop=True, inplace=True)"
   ],
   "id": "f70b0bc359be9e3d"
  },
  {
   "metadata": {},
   "cell_type": "code",
   "outputs": [],
   "execution_count": null,
   "source": [
    "interest_columns = [\n",
    "    'impact_score', 'SGD_GDP_Billions', 'USD_GDP_Billions',\n",
    "    'Singapore_Inflation', 'USA_Inflation', 'SG_Interest_Rate',\n",
    "    'US_Interest_Rate', 'Price', 'STI', 'ExchangeRate',\n",
    "    'Daily Exports(millions)', 'Daily Imports(millions)',\n",
    "    'Daily Balance(millions)', 'FOREIGN RESERVES (US$ MILLION)',\n",
    "    'GoldPrice', 'DXI', 'USD_EUR_ExchangeRate', 'USD_JPY_ExchangeRate',\n",
    "    'USD_CNY_ExchangeRate'\n",
    "]"
   ],
   "id": "fd8680c2e522aabc"
  },
  {
   "metadata": {},
   "cell_type": "code",
   "outputs": [],
   "execution_count": null,
   "source": [
    "for col in interest_columns:  # Now includes 'SGD_GDP_Billions'\n",
    "    data[f'{col}_return'] = data[col].pct_change()\n",
    "\n",
    "data.replace([np.inf, -np.inf], np.nan, inplace=True)\n",
    "\n",
    "data.dropna(inplace=True)"
   ],
   "id": "ac92e154259fa489"
  },
  {
   "metadata": {},
   "cell_type": "code",
   "outputs": [],
   "execution_count": null,
   "source": [
    "fig, axes = plt.subplots(nrows=len(interest_columns)-1, ncols=1, figsize=(10, (len(interest_columns)-1)*5))\n",
    "for i, col in enumerate(interest_columns[1:]):  # Exclude 'Date' from visualization\n",
    "    sns.lineplot(data=data, x='Date', y=f'{col}_return', ax=axes[i], label=f'{col} Return')\n",
    "    axes[i].set_title(f'{col} Return Over Time')\n",
    "plt.tight_layout()\n",
    "plt.show()\n",
    "\n",
    "print('Data Statistics:\\n', data.describe())\n",
    "\n",
    "corr_matrix = data[[f'{col}_return' for col in interest_columns[1:]]].corr()\n",
    "print('Correlation Matrix:\\n', corr_matrix)"
   ],
   "id": "f36a8234cf836b16"
  },
  {
   "metadata": {},
   "cell_type": "code",
   "outputs": [],
   "execution_count": null,
   "source": [
    "plt.figure(figsize=(14, 12))\n",
    "sns.heatmap(corr_matrix, annot=True, fmt='.2f', cmap='coolwarm')\n",
    "plt.title('Correlation Matrix of Returns')\n",
    "plt.show()\n",
    "\n",
    "high_corr_threshold = 0.7\n",
    "for col in corr_matrix.columns:\n",
    "    highly_correlated = corr_matrix.index[(corr_matrix[col] > high_corr_threshold) & (corr_matrix.index != col)].tolist()\n",
    "    if highly_correlated:\n",
    "        print(f\"{col} has high correlation with: {', '.join(highly_correlated)}\")"
   ],
   "id": "1f5619286dda698f"
  }
 ],
 "metadata": {
  "kernelspec": {
   "display_name": "Python 3",
   "language": "python",
   "name": "python3"
  },
  "language_info": {
   "codemirror_mode": {
    "name": "ipython",
    "version": 2
   },
   "file_extension": ".py",
   "mimetype": "text/x-python",
   "name": "python",
   "nbconvert_exporter": "python",
   "pygments_lexer": "ipython2",
   "version": "2.7.6"
  }
 },
 "nbformat": 4,
 "nbformat_minor": 5
}
