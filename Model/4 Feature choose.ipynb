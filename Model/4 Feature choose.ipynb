{
 "cells": [
  {
   "cell_type": "code",
   "execution_count": null,
   "id": "initial_id",
   "metadata": {
    "collapsed": true
   },
   "outputs": [],
   "source": [
    "import pandas as pd\n",
    "import numpy as np\n",
    "from sklearn.model_selection import train_test_split, cross_val_score\n",
    "from sklearn.ensemble import RandomForestRegressor\n",
    "from sklearn.metrics import mean_squared_error, r2_score\n",
    "import matplotlib.pyplot as plt\n",
    "from sklearn.inspection import permutation_importance"
   ]
  },
  {
   "metadata": {},
   "cell_type": "code",
   "outputs": [],
   "execution_count": null,
   "source": [
    "file_path = r'Database2.csv'\n",
    "data = pd.read_csv(file_path)\n",
    "data.dropna(inplace=True)\n",
    "data['ExchangeRate_Short_MA'] = data['ExchangeRate'].rolling(window=20).mean()\n",
    "data['ExchangeRate_Long_MA'] = data['ExchangeRate'].rolling(window=80).mean()"
   ],
   "id": "d0a3daca9a2bbc5"
  },
  {
   "metadata": {},
   "cell_type": "code",
   "outputs": [],
   "execution_count": null,
   "source": [
    "index_info = ['impact_score', 'SGD_GDP_Billions', 'USD_GDP_Billions',\n",
    "              'Singapore_Inflation', 'USA_Inflation', 'SG_Interest_Rate',\n",
    "              'US_Interest_Rate', 'Price', 'STI', 'ExchangeRate',\n",
    "              'Daily Exports(millions)', 'Daily Imports(millions)',\n",
    "              'Daily Balance(millions)', 'FOREIGN RESERVES (US$ MILLION)',\n",
    "              'GoldPrice', 'DXI', 'USD_EUR_ExchangeRate', 'USD_JPY_ExchangeRate',\n",
    "              'USD_CNY_ExchangeRate', 'ExchangeRate_Long_MA', 'ExchangeRate_Short_MA']"
   ],
   "id": "f95820784fa7a474"
  },
  {
   "metadata": {},
   "cell_type": "code",
   "outputs": [],
   "execution_count": null,
   "source": [
    "columns_to_calculate = index_info[1:]\n",
    "\n",
    "for col in columns_to_calculate:\n",
    "    if col in data.columns:\n",
    "        data[col] = pd.to_numeric(data[col], errors='coerce')\n",
    "        if (data[col] == 0).any():\n",
    "            data[col] = data[col].replace(0, 0.001)\n",
    "        data[f'{col}_return'] = data[col].pct_change()\n",
    "\n",
    "data.dropna(inplace=True)\n",
    "\n",
    "features = ['Price', 'STI', 'GoldPrice', 'DXI', 'USD_EUR_ExchangeRate', 'USD_CNY_ExchangeRate']"
   ],
   "id": "8f0afe1db1efd2c0"
  },
  {
   "metadata": {},
   "cell_type": "code",
   "outputs": [],
   "execution_count": null,
   "source": [
    "X = data[features]\n",
    "y = data['ExchangeRate']\n",
    "\n",
    "rf_model = RandomForestRegressor(n_estimators=500, random_state=42)\n",
    "\n",
    "cv_scores = cross_val_score(rf_model, X, y, cv=5, scoring='neg_mean_squared_error')\n",
    "\n",
    "print(\"MSE:\", -cv_scores)\n",
    "print(\"averge_MSE:\", -cv_scores.mean())"
   ],
   "id": "1ac19ee12ed36e28"
  },
  {
   "metadata": {},
   "cell_type": "code",
   "outputs": [],
   "execution_count": null,
   "source": [
    "X_train, X_test, y_train, y_test = train_test_split(X, y, test_size=0.2, random_state=42)\n",
    "\n",
    "rf_model.fit(X_train, y_train)\n",
    "\n",
    "y_pred_rf = rf_model.predict(X_test)\n",
    "\n",
    "mse_rf = mean_squared_error(y_test, y_pred_rf)\n",
    "r2_rf = r2_score(y_test, y_pred_rf)\n",
    "\n",
    "print(f\"RF (MSE): {mse_rf:.4f}\")\n",
    "print(f\"RF (R²): {r2_rf:.4f}\")"
   ],
   "id": "fa72ba54ac1217c7"
  },
  {
   "metadata": {},
   "cell_type": "code",
   "outputs": [],
   "execution_count": null,
   "source": [
    "importances = rf_model.feature_importances_\n",
    "std = np.std([tree.feature_importances_ for tree in rf_model.estimators_], axis=0)"
   ],
   "id": "569e077f119af47f"
  },
  {
   "metadata": {},
   "cell_type": "code",
   "outputs": [],
   "execution_count": null,
   "source": [
    "forest_importances = pd.Series(importances, index=features)\n",
    "fig, ax = plt.subplots(figsize=(6, 20))\n",
    "forest_importances.plot.bar(yerr=std, ax=ax)\n",
    "ax.set_title(\"Feature importances using MDI\")\n",
    "ax.set_ylabel(\"Mean decrease in impurity\")\n",
    "plt.show()\n",
    "\n",
    "plt.figure(figsize=(10, 6))\n",
    "plt.scatter(y_test, y_pred_rf, c='blue')\n",
    "plt.xlabel('True Values', fontsize=15)\n",
    "plt.ylabel('Predictions', fontsize=15)\n",
    "plt.grid(True)\n",
    "plt.plot([y.min(), y.max()], [y.min(), y.max()], 'k--', lw=4)\n",
    "plt.title('Random Forest Predicted vs Actual')\n",
    "plt.show()\n"
   ],
   "id": "c2f04aef7ac04a60"
  },
  {
   "metadata": {},
   "cell_type": "code",
   "outputs": [],
   "execution_count": null,
   "source": [
    "result = permutation_importance(\n",
    "    rf_model, X_test, y_test, n_repeats=10, random_state=42, n_jobs=2)\n",
    "perm_importances = pd.DataFrame(result.importances_mean, index=features, columns=['Importance']).sort_values('Importance', ascending=False)\n",
    "print(\"VIF：\")\n",
    "print(perm_importances)"
   ],
   "id": "cb84436351e8fc02"
  }
 ],
 "metadata": {
  "kernelspec": {
   "display_name": "Python 3",
   "language": "python",
   "name": "python3"
  },
  "language_info": {
   "codemirror_mode": {
    "name": "ipython",
    "version": 2
   },
   "file_extension": ".py",
   "mimetype": "text/x-python",
   "name": "python",
   "nbconvert_exporter": "python",
   "pygments_lexer": "ipython2",
   "version": "2.7.6"
  }
 },
 "nbformat": 4,
 "nbformat_minor": 5
}
