{
 "cells": [
  {
   "cell_type": "code",
   "id": "initial_id",
   "metadata": {
    "collapsed": true,
    "ExecuteTime": {
     "end_time": "2025-04-11T23:34:56.091229Z",
     "start_time": "2025-04-11T23:34:54.645796Z"
    }
   },
   "source": "import pandas as pd",
   "outputs": [],
   "execution_count": 1
  },
  {
   "metadata": {},
   "cell_type": "code",
   "outputs": [],
   "execution_count": null,
   "source": [
    "df1 = pd.read_csv('D:\\\\Python Project\\\\Python Learn\\\\5261\\\\Emotion Data\\\\non_zero_impact_score_examples.csv')\n",
    "df1['date'] = pd.to_datetime(df1['date'])\n",
    "df1 = df1[(df1['date'] >= '2008-07-01') & (df1['date'] <= '2020-12-30')]\n",
    "df1['impact_score'] = df1['impact_score'].astype(str).str.upper()\n",
    "df1 = df1.groupby('date')['impact_score'].apply(list).reset_index()\n",
    "df1.columns = ['Date', 'impact_score']\n",
    "df2 = pd.read_csv('D:\\\\Python Project\\\\Python Learn\\\\5261\\\\New Data\\\\Cleaned Data\\\\Processed_Data.csv')\n",
    "df2['Date'] = pd.to_datetime(df2['Date'])\n",
    "df2 = df2[(df2['Date'] >= '2008-07-01') & (df2['Date'] <= '2020-12-30')]\n"
   ],
   "id": "81882496562eaafc"
  },
  {
   "metadata": {},
   "cell_type": "code",
   "outputs": [],
   "execution_count": null,
   "source": [
    "merged_df = pd.merge(df2, df1, on='Date', how='left')\n",
    "merged_df['impact_score'] = merged_df['impact_score'].apply(lambda x: x if isinstance(x, list) else [0])\n",
    "merged_df.to_csv('D:\\\\Python Project\\\\Python Learn\\\\5261\\\\New Code\\\\merged_data.csv', index=False)"
   ],
   "id": "8d16c07da8db123b"
  }
 ],
 "metadata": {
  "kernelspec": {
   "display_name": "Python 3",
   "language": "python",
   "name": "python3"
  },
  "language_info": {
   "codemirror_mode": {
    "name": "ipython",
    "version": 2
   },
   "file_extension": ".py",
   "mimetype": "text/x-python",
   "name": "python",
   "nbconvert_exporter": "python",
   "pygments_lexer": "ipython2",
   "version": "2.7.6"
  }
 },
 "nbformat": 4,
 "nbformat_minor": 5
}
